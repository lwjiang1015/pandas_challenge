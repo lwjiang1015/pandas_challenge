{
 "cells": [
  {
   "cell_type": "code",
   "execution_count": 2,
   "id": "a27fa29f-a662-41bb-842b-9de9c212e48d",
   "metadata": {},
   "outputs": [
    {
     "data": {
      "text/html": [
       "<div>\n",
       "<style scoped>\n",
       "    .dataframe tbody tr th:only-of-type {\n",
       "        vertical-align: middle;\n",
       "    }\n",
       "\n",
       "    .dataframe tbody tr th {\n",
       "        vertical-align: top;\n",
       "    }\n",
       "\n",
       "    .dataframe thead th {\n",
       "        text-align: right;\n",
       "    }\n",
       "</style>\n",
       "<table border=\"1\" class=\"dataframe\">\n",
       "  <thead>\n",
       "    <tr style=\"text-align: right;\">\n",
       "      <th></th>\n",
       "      <th>Student ID</th>\n",
       "      <th>student_name</th>\n",
       "      <th>gender</th>\n",
       "      <th>year</th>\n",
       "      <th>school_name</th>\n",
       "      <th>reading_score</th>\n",
       "      <th>maths_score</th>\n",
       "      <th>School ID</th>\n",
       "      <th>type</th>\n",
       "      <th>size</th>\n",
       "      <th>budget</th>\n",
       "    </tr>\n",
       "  </thead>\n",
       "  <tbody>\n",
       "    <tr>\n",
       "      <th>0</th>\n",
       "      <td>0</td>\n",
       "      <td>Paul Bradley</td>\n",
       "      <td>M</td>\n",
       "      <td>9</td>\n",
       "      <td>Huang High School</td>\n",
       "      <td>96</td>\n",
       "      <td>94</td>\n",
       "      <td>0</td>\n",
       "      <td>Government</td>\n",
       "      <td>2917</td>\n",
       "      <td>1910635</td>\n",
       "    </tr>\n",
       "    <tr>\n",
       "      <th>1</th>\n",
       "      <td>1</td>\n",
       "      <td>Victor Smith</td>\n",
       "      <td>M</td>\n",
       "      <td>12</td>\n",
       "      <td>Huang High School</td>\n",
       "      <td>90</td>\n",
       "      <td>43</td>\n",
       "      <td>0</td>\n",
       "      <td>Government</td>\n",
       "      <td>2917</td>\n",
       "      <td>1910635</td>\n",
       "    </tr>\n",
       "    <tr>\n",
       "      <th>2</th>\n",
       "      <td>2</td>\n",
       "      <td>Kevin Rodriguez</td>\n",
       "      <td>M</td>\n",
       "      <td>12</td>\n",
       "      <td>Huang High School</td>\n",
       "      <td>41</td>\n",
       "      <td>76</td>\n",
       "      <td>0</td>\n",
       "      <td>Government</td>\n",
       "      <td>2917</td>\n",
       "      <td>1910635</td>\n",
       "    </tr>\n",
       "  </tbody>\n",
       "</table>\n",
       "</div>"
      ],
      "text/plain": [
       "   Student ID     student_name gender  year        school_name  reading_score  \\\n",
       "0           0     Paul Bradley      M     9  Huang High School             96   \n",
       "1           1     Victor Smith      M    12  Huang High School             90   \n",
       "2           2  Kevin Rodriguez      M    12  Huang High School             41   \n",
       "\n",
       "   maths_score  School ID        type  size   budget  \n",
       "0           94          0  Government  2917  1910635  \n",
       "1           43          0  Government  2917  1910635  \n",
       "2           76          0  Government  2917  1910635  "
      ]
     },
     "execution_count": 2,
     "metadata": {},
     "output_type": "execute_result"
    }
   ],
   "source": [
    "# Dependencies and Setup\n",
    "import pandas as pd\n",
    "from pathlib import Path\n",
    "\n",
    "# File to Load\n",
    "school_data = Path(\"Resources/schools_complete.csv\")\n",
    "student_data = Path(\"Resources/students_complete.csv\")\n",
    "\n",
    "# Read School and Student Data Files and store into Pandas DataFrames\n",
    "school_data_df = pd.read_csv(school_data)\n",
    "student_data_df = pd.read_csv(student_data)\n",
    "\n",
    "# Combine the school and student data files into one single dataset.  \n",
    "school_data_merged = pd.merge(student_data_df, school_data_df, how=\"left\", on=[\"school_name\", \"school_name\"])\n",
    "\n",
    "school_data_merged.head(3)"
   ]
  },
  {
   "cell_type": "code",
   "execution_count": 3,
   "id": "4cdfc968-29d3-4a79-a30e-dfcb071033d7",
   "metadata": {},
   "outputs": [
    {
     "data": {
      "text/plain": [
       "15"
      ]
     },
     "execution_count": 3,
     "metadata": {},
     "output_type": "execute_result"
    }
   ],
   "source": [
    "# Local Government Area (LGA) Summary\n",
    "# Perform the necessary calculations and create the local government area's key metrics in a DataFrame.\n",
    "\n",
    "Totalnumber_of_uniqueschools = len(school_data_merged[\"school_name\"].unique())\n",
    "Totalnumber_of_uniqueschools"
   ]
  },
  {
   "cell_type": "code",
   "execution_count": 4,
   "id": "4c76edec-5cbe-4c5f-8427-467354c2c8f2",
   "metadata": {},
   "outputs": [
    {
     "data": {
      "text/plain": [
       "39170"
      ]
     },
     "execution_count": 4,
     "metadata": {},
     "output_type": "execute_result"
    }
   ],
   "source": [
    "Total_students = len(school_data_merged[\"school_name\"])\n",
    "Total_students"
   ]
  },
  {
   "cell_type": "code",
   "execution_count": 5,
   "id": "a31940e2-fe90-44c0-8b57-28260ae8f99f",
   "metadata": {},
   "outputs": [
    {
     "data": {
      "text/plain": [
       "24649428"
      ]
     },
     "execution_count": 5,
     "metadata": {},
     "output_type": "execute_result"
    }
   ],
   "source": [
    "Total_budget = sum(school_data_merged[\"budget\"].unique())\n",
    "Total_budget"
   ]
  },
  {
   "cell_type": "code",
   "execution_count": 6,
   "id": "14f7af07-7c8f-4719-a76f-ca8303aa7541",
   "metadata": {},
   "outputs": [
    {
     "data": {
      "text/plain": [
       "70.33819249425581"
      ]
     },
     "execution_count": 6,
     "metadata": {},
     "output_type": "execute_result"
    }
   ],
   "source": [
    "Average_maths_score = school_data_merged[\"maths_score\"].mean()\n",
    "Average_maths_score "
   ]
  },
  {
   "cell_type": "code",
   "execution_count": 7,
   "id": "552dcf5d-454c-4fc3-ba3e-cb3e0133b7d3",
   "metadata": {},
   "outputs": [
    {
     "data": {
      "text/plain": [
       "69.98013786060761"
      ]
     },
     "execution_count": 7,
     "metadata": {},
     "output_type": "execute_result"
    }
   ],
   "source": [
    "Average_reading_score = school_data_merged[\"reading_score\"].mean()\n",
    "Average_reading_score "
   ]
  },
  {
   "cell_type": "code",
   "execution_count": 8,
   "id": "0bfe179e-2466-4fa4-8860-e84824d2b9f2",
   "metadata": {},
   "outputs": [
    {
     "data": {
      "text/plain": [
       "86.07863160582077"
      ]
     },
     "execution_count": 8,
     "metadata": {},
     "output_type": "execute_result"
    }
   ],
   "source": [
    "num_students_passing_maths = len((school_data_merged.loc[school_data_merged[\"maths_score\"]>=50]))\n",
    "num_students_passing_maths\n",
    "percentage_students_passing_maths = (num_students_passing_maths/Total_students)*100\n",
    "percentage_students_passing_maths"
   ]
  },
  {
   "cell_type": "code",
   "execution_count": 9,
   "id": "2c081074-9b97-4063-a0be-9c7b6c30871e",
   "metadata": {},
   "outputs": [
    {
     "data": {
      "text/plain": [
       "84.42685728874139"
      ]
     },
     "execution_count": 9,
     "metadata": {},
     "output_type": "execute_result"
    }
   ],
   "source": [
    "num_students_passing_reading = len((school_data_merged.loc[school_data_merged[\"reading_score\"]>=50]))\n",
    "num_students_passing_reading\n",
    "percentage_students_passing_reading = (num_students_passing_reading/Total_students)*100\n",
    "percentage_students_passing_reading"
   ]
  },
  {
   "cell_type": "code",
   "execution_count": 10,
   "id": "d08c92c9-9aef-4407-a7ef-abe57f5628e1",
   "metadata": {},
   "outputs": [
    {
     "data": {
      "text/plain": [
       "72.80827163645647"
      ]
     },
     "execution_count": 10,
     "metadata": {},
     "output_type": "execute_result"
    }
   ],
   "source": [
    "# filter students with overall passing grades first\n",
    "overall_passing_df = school_data_merged.loc[(school_data_merged[\"maths_score\"]>=50) & (\n",
    "    school_data_merged[\"reading_score\"]>=50), :]\n",
    "overall_passing_df\n",
    "# calculate the % of overall passing\n",
    "percentage_students_passing_overall = (len(overall_passing_df)/Total_students)*100\n",
    "percentage_students_passing_overall"
   ]
  },
  {
   "cell_type": "code",
   "execution_count": 12,
   "id": "3dbbab55-c4ae-4af5-9635-ed667f646bc4",
   "metadata": {},
   "outputs": [
    {
     "data": {
      "text/html": [
       "<div>\n",
       "<style scoped>\n",
       "    .dataframe tbody tr th:only-of-type {\n",
       "        vertical-align: middle;\n",
       "    }\n",
       "\n",
       "    .dataframe tbody tr th {\n",
       "        vertical-align: top;\n",
       "    }\n",
       "\n",
       "    .dataframe thead th {\n",
       "        text-align: right;\n",
       "    }\n",
       "</style>\n",
       "<table border=\"1\" class=\"dataframe\">\n",
       "  <thead>\n",
       "    <tr style=\"text-align: right;\">\n",
       "      <th></th>\n",
       "      <th>Total Schools</th>\n",
       "      <th>Total Students</th>\n",
       "      <th>Total Budget</th>\n",
       "      <th>Average Maths Score</th>\n",
       "      <th>Average Reading Score</th>\n",
       "      <th>% Passing Math</th>\n",
       "      <th>% Passing Reading</th>\n",
       "      <th>% Overall Passing</th>\n",
       "    </tr>\n",
       "  </thead>\n",
       "  <tbody>\n",
       "    <tr>\n",
       "      <th>0</th>\n",
       "      <td>15</td>\n",
       "      <td>39170</td>\n",
       "      <td>24649428</td>\n",
       "      <td>70.338192</td>\n",
       "      <td>69.980138</td>\n",
       "      <td>86.078632</td>\n",
       "      <td>84.426857</td>\n",
       "      <td>72.808272</td>\n",
       "    </tr>\n",
       "  </tbody>\n",
       "</table>\n",
       "</div>"
      ],
      "text/plain": [
       "   Total Schools  Total Students  Total Budget  Average Maths Score  \\\n",
       "0             15           39170      24649428            70.338192   \n",
       "\n",
       "   Average Reading Score  % Passing Math  % Passing Reading  % Overall Passing  \n",
       "0              69.980138       86.078632          84.426857          72.808272  "
      ]
     },
     "execution_count": 12,
     "metadata": {},
     "output_type": "execute_result"
    }
   ],
   "source": [
    "# Place all of the calculation into a summary DataFrame\n",
    "local_govarea_summary = pd.DataFrame({\"Total Schools\": [Totalnumber_of_uniqueschools],\n",
    "                              \"Total Students\": Total_students,\n",
    "                              \"Total Budget\": Total_budget,\n",
    "                              \"Average Maths Score\": Average_maths_score,\n",
    "                              \"Average Reading Score\": Average_reading_score,\n",
    "                              \"% Passing Math\": percentage_students_passing_maths, \n",
    "                              \"% Passing Reading\": percentage_students_passing_reading,\n",
    "                              \"% Overall Passing\": percentage_students_passing_overall\n",
    "                                     })\n",
    "local_govarea_summary"
   ]
  },
  {
   "cell_type": "code",
   "execution_count": null,
   "id": "eaf7358f-3ecd-4034-8b7a-1b5f1246c89d",
   "metadata": {},
   "outputs": [],
   "source": []
  }
 ],
 "metadata": {
  "kernelspec": {
   "display_name": "Python 3 (ipykernel)",
   "language": "python",
   "name": "python3"
  },
  "language_info": {
   "codemirror_mode": {
    "name": "ipython",
    "version": 3
   },
   "file_extension": ".py",
   "mimetype": "text/x-python",
   "name": "python",
   "nbconvert_exporter": "python",
   "pygments_lexer": "ipython3",
   "version": "3.7.13"
  }
 },
 "nbformat": 4,
 "nbformat_minor": 5
}
